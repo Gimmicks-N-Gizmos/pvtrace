{
 "cells": [
  {
   "cell_type": "code",
   "execution_count": null,
   "metadata": {},
   "outputs": [],
   "source": [
    "import time\n",
    "import numpy as np\n",
    "import matplotlib\n",
    "import matplotlib.pyplot as plt\n",
    "%matplotlib inline\n",
    "from pvtrace.scene.scene import Scene\n",
    "from pvtrace.scene.renderer import MeshcatRenderer\n",
    "from pvtrace.scene.node import Node\n",
    "from pvtrace.trace.tracer import PhotonTracer\n",
    "from pvtrace.geometry.sphere import Sphere\n",
    "from pvtrace.material.material import Dielectric, LossyDielectric, Lumophore, Host\n",
    "from pvtrace.light.ray import Ray\n",
    "import logging"
   ]
  },
  {
   "cell_type": "markdown",
   "metadata": {},
   "source": [
    "# Material types\n",
    "In this notebook we will continue with the same example in quick start 1 but investigate different material types.\n",
    "\n",
    "Let's define the original scene."
   ]
  },
  {
   "cell_type": "code",
   "execution_count": null,
   "metadata": {},
   "outputs": [],
   "source": [
    "world = Node(\n",
    "    name=\"world (air)\",\n",
    "    geometry=Sphere(\n",
    "        radius=10.0,\n",
    "        material=Dielectric.air()\n",
    "    )\n",
    ")\n",
    "sphere = Node(\n",
    "    name=\"sphere (glass)\",\n",
    "    geometry=Sphere(\n",
    "        radius=1.0,\n",
    "        material=Dielectric.glass()\n",
    "    ),\n",
    "    parent=world\n",
    ")\n",
    "ray = Ray(\n",
    "    position=(-1.0, 0.0, 0.9),\n",
    "    direction=(1.0, 0.0, 0.0),\n",
    "    wavelength=600.0\n",
    ")\n",
    "scene = Scene(world)\n",
    "tracer = PhotonTracer(scene)"
   ]
  },
  {
   "cell_type": "markdown",
   "metadata": {},
   "source": [
    "## Dielectric material"
   ]
  },
  {
   "cell_type": "markdown",
   "metadata": {},
   "source": [
    "In pvtrace a dielectric material is a material types that only has a refractive index attribute; it only interacts with rays by reflection and refraction, calculated by the Fresnel equations. This is useful but slightly limited compared to the other material types available.\n",
    "\n",
    "Let's trace 100 rays into the scene with the sphere of the dielectric material."
   ]
  },
  {
   "cell_type": "code",
   "execution_count": null,
   "metadata": {},
   "outputs": [],
   "source": [
    "vis = MeshcatRenderer()\n",
    "vis.render(scene)\n",
    "for _ in range(100):\n",
    "    path = tracer.follow(ray)\n",
    "    vis.add_ray_path(path)\n",
    "    time.sleep(0.001)  # allow the renderer a chance to redraw\n",
    "vis.vis.jupyter_cell()"
   ]
  },
  {
   "cell_type": "markdown",
   "metadata": {},
   "source": [
    "## Lossy dielectric material\n",
    "\n",
    "A lossy dielectric has a refractive index attribute and an absorption coefficient; it refracts, reflects and absorbs rays. When rays are absorbed they are killed and no longer traced.\n",
    "\n",
    "Let's change the material attached to the sphere. Here we make a lossy dielectric with an absorption coefficient and refractive index defined between 300nm to 4000nm. The refractive index is 1.5 and the absorption coefficient is 5cm$^{-1}.$"
   ]
  },
  {
   "cell_type": "code",
   "execution_count": null,
   "metadata": {},
   "outputs": [],
   "source": [
    "world = Node(\n",
    "    name=\"world (air)\",\n",
    "    geometry=Sphere(\n",
    "        radius=10.0,\n",
    "        material=Dielectric.air()\n",
    "    )\n",
    ")\n",
    "sphere = Node(\n",
    "    name=\"sphere (glass)\",\n",
    "    geometry=Sphere(\n",
    "        radius=1.0,\n",
    "        material=LossyDielectric.make_constant((300, 4000), 1.5, 5.0)\n",
    "    ),\n",
    "    parent=world\n",
    ")\n",
    "ray = Ray(\n",
    "    position=(-1.0, 0.0, 0.9),\n",
    "    direction=(1.0, 0.0, 0.0),\n",
    "    wavelength=600.0\n",
    ")\n",
    "scene = Scene(world)\n",
    "tracer = PhotonTracer(scene)"
   ]
  },
  {
   "cell_type": "code",
   "execution_count": null,
   "metadata": {},
   "outputs": [],
   "source": [
    "vis = MeshcatRenderer()\n",
    "vis.render(scene)\n",
    "for _ in range(10):\n",
    "    path = tracer.follow(ray)\n",
    "    vis.add_ray_path(path)\n",
    "    time.sleep(0.001)  # allow the renderer a chance to redraw\n",
    "vis.vis.jupyter_cell()"
   ]
  },
  {
   "cell_type": "markdown",
   "metadata": {},
   "source": [
    "To see that the ray path length inside the sphere is attenuated, click Open Controls in the meshcat viewer, open the meshcat node, and uncheck \"world (air)\". Now it is highly unlikely that the ray will travel more than a few millimeters."
   ]
  },
  {
   "cell_type": "markdown",
   "metadata": {},
   "source": [
    "## Lumophore material\n",
    "\n",
    "The lumophore material has absorption coefficient, emission spectrum and quantum yield attributes, but does not have a refractive index attribute. Let's make a very simple absorption coefficient and emission spectrum for this material. The quantum yield is the probability that re-emission occurs after a ray has been absorbed."
   ]
  },
  {
   "cell_type": "code",
   "execution_count": null,
   "metadata": {},
   "outputs": [],
   "source": [
    "def make_absorprtion_coefficient(x_range, wavelengths, absorption_coefficient, cutoff_range, min_alpha=0):\n",
    "    wavelength1, wavelength2 = cutoff_range\n",
    "    alpha = absorption_coefficient\n",
    "    halfway = wavelength1 + 0.5 * (wavelength2 - wavelength1)\n",
    "    x = [x_range[0], wavelength1, halfway, wavelength2, x_range[1]]\n",
    "    y = [alpha, alpha, 0.5 * alpha, min_alpha, min_alpha]\n",
    "    abs_coeff = np.interp(wavelengths, x, y)\n",
    "    return abs_coeff\n",
    "\n",
    "def make_emission_spectrum(x_range, wavelengths, cutoff_range, min_ems=0):\n",
    "    wavelength1, wavelength2 = cutoff_range\n",
    "    halfway = wavelength1 + 0.5 * (wavelength2 - wavelength1)\n",
    "    x = [x_range[0], wavelength1, halfway, wavelength2, x_range[1]]\n",
    "    y = [min_ems, min_ems, 1.0, min_ems, min_ems]\n",
    "    abs_coeff = np.interp(wavelengths, x, y)\n",
    "    return abs_coeff\n",
    "\n",
    "\n",
    "x_range = (300, 1000)\n",
    "wavelength = np.linspace(*x_range)\n",
    "abs_coef = make_absorprtion_coefficient(x_range, wavelength, 1.0, (700, 800))\n",
    "ems_spec = make_emission_spectrum(x_range, wavelength, (600, 700))\n",
    "plt.plot(wavelength, abs_coef, label=\"Abs (1/cm)\")\n",
    "plt.plot(wavelength, ems_spec, label=\"Ems (arb.)\")\n",
    "plt.xlabel(\"Wavelength (nm)\")\n",
    "plt.legend()\n",
    "plt.grid(linestyle=\"dotted\")"
   ]
  },
  {
   "cell_type": "code",
   "execution_count": null,
   "metadata": {},
   "outputs": [],
   "source": [
    "world = Node(\n",
    "    name=\"world (air)\",\n",
    "    geometry=Sphere(\n",
    "        radius=10.0,\n",
    "        material=Dielectric.air()\n",
    "    )\n",
    ")\n",
    "\n",
    "# Make the Lumophore material here\n",
    "lumophore = Lumophore(\n",
    "    np.column_stack((wavelength, abs_coef)),  # abs. coef. spectrum\n",
    "    np.column_stack((wavelength, ems_spec)),  # emission spectrum\n",
    "    1.0  # quantum yield\n",
    ")  \n",
    "\n",
    "sphere = Node(\n",
    "    name=\"sphere (glass)\",\n",
    "    geometry=Sphere(\n",
    "        radius=1.0,\n",
    "        material=lumophore  # assign it here\n",
    "    ),\n",
    "    parent=world\n",
    ")\n",
    "ray = Ray(\n",
    "    position=(-1.0, 0.0, 0.9),\n",
    "    direction=(1.0, 0.0, 0.0),\n",
    "    wavelength=600.0\n",
    ")\n",
    "scene = Scene(world)\n",
    "tracer = PhotonTracer(scene)"
   ]
  },
  {
   "cell_type": "code",
   "execution_count": null,
   "metadata": {},
   "outputs": [],
   "source": [
    "vis = MeshcatRenderer()\n",
    "vis.render(scene)\n",
    "for _ in range(10):\n",
    "    path = tracer.follow(ray)\n",
    "    vis.add_ray_path(path)\n",
    "    time.sleep(0.001)  # allow the renderer a chance to redraw\n",
    "vis.vis.jupyter_cell()"
   ]
  },
  {
   "cell_type": "markdown",
   "metadata": {},
   "source": [
    "The orange ray enters the lumophore sphere, some rays can pass directly through, unabsorbed, because the absorption coefficient is faily low compared to the thickness of the sphere. Others are absorbed and re-emitted and longer (reshifted) wavelengths. These are the red rays, which branch from the orange ray path. They are locations where an orange ray has been absorbed and a re-emission event occurs.\n",
    "\n",
    "Note that the there is no refraction at the interfaces of a lumophore material. As mentioned before, this is because it does not have an refractive index attribute and therefore pvtrace does not apply any refraction at the interfaces."
   ]
  },
  {
   "cell_type": "markdown",
   "metadata": {},
   "source": [
    "## Host material\n",
    "\n",
    "A host material brings all of the above building blocks together and is probably the most interesting material type for uses for the software. It has a refractive index, absorption coefficient, emission spectrum and a quantum yield.\n",
    "\n",
    "Luminescent solar concentrators, and related devices, are comprised of a lumophores which are typically blended with a polymer host matrix. The host provides the dominant contribution to bulk refractive index. This is reason why lumophore materials in pvtrace do not have a refractive index attribute. Moreover, the refractive index of the host is used and multiple lumophores can be added to a single host material."
   ]
  },
  {
   "cell_type": "code",
   "execution_count": null,
   "metadata": {},
   "outputs": [],
   "source": [
    "world = Node(\n",
    "    name=\"world (air)\",\n",
    "    geometry=Sphere(\n",
    "        radius=10.0,\n",
    "        material=Dielectric.air()\n",
    "    )\n",
    ")\n",
    "\n",
    "sphere = Node(\n",
    "    name=\"sphere (glass)\",\n",
    "    geometry=Sphere(\n",
    "        radius=1.0,\n",
    "        material=Host(\n",
    "            np.column_stack( # refractive index spectrum\n",
    "                (wavelength,\n",
    "                 np.ones(wavelength.size) * 1.5)\n",
    "            ), \n",
    "            [lumophore],  # list of lumophores, reuse the one we already have.\n",
    "        )\n",
    "    ),\n",
    "    parent=world\n",
    ")\n",
    "ray = Ray(\n",
    "    position=(-1.0, 0.0, 0.9),\n",
    "    direction=(1.0, 0.0, 0.0),\n",
    "    wavelength=600.0\n",
    ")\n",
    "scene = Scene(world)\n",
    "tracer = PhotonTracer(scene)"
   ]
  },
  {
   "cell_type": "code",
   "execution_count": null,
   "metadata": {},
   "outputs": [],
   "source": [
    "vis = MeshcatRenderer()\n",
    "vis.render(scene)\n",
    "for _ in range(10):\n",
    "    path = tracer.follow(ray)\n",
    "    vis.add_ray_path(path)\n",
    "    time.sleep(0.001)  # allow the renderer a chance to redraw\n",
    "vis.vis.jupyter_cell()"
   ]
  },
  {
   "cell_type": "markdown",
   "metadata": {},
   "source": [
    "The visualisation shows refraction upon enter or exiting the sphere. Also, the paths now taken are now much more complex because of internal reflection which increases the path length through the lumophore material resulting in more absorption and reemission events.\n",
    "\n",
    "In the next tutorial we will introduce light sources which makes generating rays that sample a realistic spectrum trivial."
   ]
  },
  {
   "cell_type": "code",
   "execution_count": null,
   "metadata": {},
   "outputs": [],
   "source": []
  }
 ],
 "metadata": {
  "kernelspec": {
   "display_name": "Python 3",
   "language": "python",
   "name": "python3"
  },
  "language_info": {
   "codemirror_mode": {
    "name": "ipython",
    "version": 3
   },
   "file_extension": ".py",
   "mimetype": "text/x-python",
   "name": "python",
   "nbconvert_exporter": "python",
   "pygments_lexer": "ipython3",
   "version": "3.7.2"
  }
 },
 "nbformat": 4,
 "nbformat_minor": 2
}
