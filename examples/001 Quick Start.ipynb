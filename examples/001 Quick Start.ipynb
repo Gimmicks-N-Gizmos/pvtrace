{
 "cells": [
  {
   "cell_type": "code",
   "execution_count": null,
   "metadata": {},
   "outputs": [],
   "source": [
    "from pvtrace import (\n",
    "    Scene, Node,\n",
    "    Sphere,\n",
    "    Material, Surface, Ray,\n",
    "    MeshcatRenderer, photon_tracer\n",
    ")\n",
    "import numpy as np\n",
    "import logging\n",
    "logging.getLogger(\"pvtrace\").setLevel(logging.CRITICAL)\n",
    "logging.getLogger(\"trimesh\").setLevel(logging.CRITICAL)"
   ]
  },
  {
   "cell_type": "markdown",
   "metadata": {},
   "source": [
    "# Example\n",
    "\n",
    "Let's make a scene. \n",
    "\n",
    "Every scene must have a **world node** which contains all other objects. In the example below the world is a giant sphere (radius 10) filled with air (refractive index 1.0).\n",
    "\n",
    "Inside the world node we add a smaller sphere (radius 1) which has refractive index 1.5 (this could represent glass or plastic).\n",
    "\n",
    "For now, just accept that we also need to create a `Surface()` object and pass that too. This is more advanced and will be introduced later.\n",
    "\n",
    "## A simple scene"
   ]
  },
  {
   "cell_type": "code",
   "execution_count": null,
   "metadata": {},
   "outputs": [],
   "source": [
    "world = Node(\n",
    "    name=\"world (air)\",\n",
    "    geometry=Sphere(\n",
    "        radius=10.0,\n",
    "        material=Material(refractive_index=1.0),\n",
    "        surface=Surface()\n",
    "    )\n",
    ")\n",
    "sphere = Node(\n",
    "    name=\"sphere (glass)\",\n",
    "    geometry=Sphere(\n",
    "        radius=1.0,\n",
    "        material=Material(refractive_index=1.5),\n",
    "        surface=Surface()\n",
    "    ),\n",
    "    parent=world\n",
    ")\n",
    "scene = Scene(world)"
   ]
  },
  {
   "cell_type": "markdown",
   "metadata": {},
   "source": [
    "## Using the visualiser\n",
    "Let's visualise this scene with the meshcat based renderer."
   ]
  },
  {
   "cell_type": "code",
   "execution_count": null,
   "metadata": {},
   "outputs": [],
   "source": [
    "vis = MeshcatRenderer()\n",
    "vis.render(scene)\n",
    "vis.vis.jupyter_cell()"
   ]
  },
  {
   "cell_type": "markdown",
   "metadata": {},
   "source": [
    "## Making rays\n",
    "Throw some rays at the scene. A ray has a position, direction and wavelength."
   ]
  },
  {
   "cell_type": "code",
   "execution_count": null,
   "metadata": {},
   "outputs": [],
   "source": [
    "ray = Ray(\n",
    "    position=(-1.0, 0.0, 1.1),\n",
    "    direction=(1.0, 0.0, 0.0),\n",
    "    wavelength=555.0\n",
    ")"
   ]
  },
  {
   "cell_type": "markdown",
   "metadata": {},
   "source": [
    "## Tracing the scene\n",
    "\n",
    "Let's follow the ray through the scene using the `follow` function of the `photon_tracer` module. Drag the visualisation to see the path of the ray."
   ]
  },
  {
   "cell_type": "code",
   "execution_count": null,
   "metadata": {},
   "outputs": [],
   "source": [
    "np.random.seed(0)\n",
    "steps = photon_tracer.trace(scene, ray)\n",
    "path, decisions = zip(*steps)\n",
    "vis.add_ray_path(path)"
   ]
  },
  {
   "cell_type": "markdown",
   "metadata": {},
   "source": [
    "The photon tracer simulates the propagation of the ray through the scene as if it was a photon. Automatic Fresnel reflection and refraction occurs at boundaries between materials for different refractive index. As you will see later, if the material also has an absopative or emissive properties rays can be absorbed and re-emitted.\n",
    "\n",
    "The follow method returns a list of steps. At each step something happened. A step is just a tuple containing a ray and a decision enum."
   ]
  },
  {
   "cell_type": "code",
   "execution_count": null,
   "metadata": {},
   "outputs": [],
   "source": [
    "steps[0]"
   ]
  },
  {
   "cell_type": "markdown",
   "metadata": {},
   "source": [
    "The first step is the creation of the ray with an `GENERATE` event."
   ]
  },
  {
   "cell_type": "code",
   "execution_count": null,
   "metadata": {},
   "outputs": [],
   "source": [
    "steps[1]"
   ]
  },
  {
   "cell_type": "markdown",
   "metadata": {},
   "source": [
    "The ray then hits the world node and exits. This is marked as the `EXIT` event."
   ]
  },
  {
   "cell_type": "markdown",
   "metadata": {},
   "source": [
    "Let's make a ray that intersects with the sphere and see what happens (you may need to scroll up to see the viewer)."
   ]
  },
  {
   "cell_type": "code",
   "execution_count": null,
   "metadata": {},
   "outputs": [],
   "source": [
    "ray = Ray(\n",
    "    position=(-1.0, 0.0, 0.9),\n",
    "    direction=(1.0, 0.0, 0.0),\n",
    "    wavelength=650.0\n",
    ")\n",
    "steps = photon_tracer.trace(scene, ray)\n",
    "path, decisions = zip(*steps)\n",
    "vis.add_ray_path(path)"
   ]
  },
  {
   "cell_type": "markdown",
   "metadata": {},
   "source": [
    "This is a Monte Carlo simulation, the ray will not necessarily take the same path every time."
   ]
  },
  {
   "cell_type": "markdown",
   "metadata": {},
   "source": [
    "Let's generate 100 identical rays and see what happens."
   ]
  },
  {
   "cell_type": "code",
   "execution_count": null,
   "metadata": {},
   "outputs": [],
   "source": [
    "import time\n",
    "for _ in range(100):\n",
    "    steps = photon_tracer.trace(scene, ray)\n",
    "    path, decisions = zip(*steps)\n",
    "    vis.add_ray_path(path)\n",
    "    time.sleep(0.001)  # allow the renderer a chance to redraw"
   ]
  },
  {
   "cell_type": "markdown",
   "metadata": {},
   "source": [
    "The other tutorial and example files show how to photon trace materials which also absorb and emit light and how to import complex geometies from mesh files and ray trace those."
   ]
  }
 ],
 "metadata": {
  "kernelspec": {
   "display_name": "Python 3",
   "language": "python",
   "name": "python3"
  },
  "language_info": {
   "codemirror_mode": {
    "name": "ipython",
    "version": 3
   },
   "file_extension": ".py",
   "mimetype": "text/x-python",
   "name": "python",
   "nbconvert_exporter": "python",
   "pygments_lexer": "ipython3",
   "version": "3.7.2"
  }
 },
 "nbformat": 4,
 "nbformat_minor": 2
}
