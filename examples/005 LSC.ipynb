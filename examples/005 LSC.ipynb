{
 "cells": [
  {
   "cell_type": "code",
   "execution_count": null,
   "metadata": {},
   "outputs": [],
   "source": [
    "import numpy as np\n",
    "import pathlib\n",
    "import time\n",
    "import sys\n",
    "import os\n",
    "import matplotlib\n",
    "import pandas as pd\n",
    "from dataclasses import asdict\n",
    "import matplotlib\n",
    "import matplotlib.pyplot as plt\n",
    "%matplotlib inline\n",
    "import functools\n",
    "from pvtrace.light.utils import wavelength_to_rgb\n",
    "from pvtrace.scene.scene import Scene\n",
    "from pvtrace.trace.tracer import PhotonTracer\n",
    "from pvtrace.scene.node import Node\n",
    "from pvtrace.scene.node import Node\n",
    "from pvtrace.common.errors import TraceError\n",
    "from pvtrace.light.light import Light\n",
    "from pvtrace.light.ray import Ray\n",
    "from pvtrace.geometry.mesh import Mesh\n",
    "from pvtrace.geometry.box import Box\n",
    "from pvtrace.geometry.sphere import Sphere\n",
    "from pvtrace.material.material import Dielectric, LossyDielectric, Lumophore, Host\n",
    "from pvtrace.scene.node import Node\n",
    "from pvtrace.scene.renderer import MeshcatRenderer\n",
    "from pvtrace.geometry.utils import magnitude\n",
    "import logging\n",
    "# We want to see pvtrace logging here\n",
    "logging.getLogger('pvtrace').setLevel(logging.ERROR)"
   ]
  },
  {
   "cell_type": "markdown",
   "metadata": {},
   "source": [
    "# Luminescent solar concentrator\n",
    "\n",
    "In this example we perform a simulation of a box shape luminescent concentrator (LSC) and demonstrate how the data can be analyised and plotted."
   ]
  },
  {
   "cell_type": "markdown",
   "metadata": {},
   "source": [
    "## Absorption and emission spectrum\n",
    "\n",
    "Let's make a dye with an absorption coefficient (1/cm) and an emission spectrum. In a real simulation you will want to use measured data for this properties."
   ]
  },
  {
   "cell_type": "code",
   "execution_count": null,
   "metadata": {},
   "outputs": [],
   "source": [
    "def make_absorprtion_coefficient(wavelengths, absorption_coefficient, cutoff_range, min_alpha=0):\n",
    "    wavelength1, wavelength2 = cutoff_range\n",
    "    alpha = absorption_coefficient\n",
    "    halfway = wavelength1 + 0.5 * (wavelength2 - wavelength1)\n",
    "    x = [0.0, wavelength1, halfway, wavelength2, sys.float_info.max]\n",
    "    y = [alpha, alpha, 0.5 * alpha, min_alpha, min_alpha]\n",
    "    abs_coeff = np.interp(wavelengths, x, y)\n",
    "    return abs_coeff\n",
    "\n",
    "def make_emission_spectrum(wavelengths, cutoff_range, min_ems=0):\n",
    "    wavelength1, wavelength2 = cutoff_range\n",
    "    halfway = wavelength1 + 0.5 * (wavelength2 - wavelength1)\n",
    "    x = [0.0, wavelength1, halfway, wavelength2, sys.float_info.max]\n",
    "    y = [min_ems, min_ems, 1.0, min_ems, min_ems]\n",
    "    abs_coeff = np.interp(wavelengths, x, y)\n",
    "    return abs_coeff\n",
    "\n",
    "wavelength_range = (300, 800)\n",
    "wavelength = np.linspace(*wavelength_range)\n",
    "abs_coef = make_absorprtion_coefficient(wavelength, 100.0, (700, 780))\n",
    "ems_spec = make_emission_spectrum(wavelength, (680, 780))\n",
    "fig, ax1 = plt.subplots()\n",
    "ax1.plot(wavelength, abs_coef, label=\"Abs.\")\n",
    "ax1.set_ylabel('Abs. coef. (1/cm)')\n",
    "ax2 = ax1.twinx()\n",
    "ax2.plot(wavelength, ems_spec, '--r', label=\"Ems.\")\n",
    "ax2.set_ylabel('Ems. spec. (arb.)')\n",
    "ax1.set_xlabel('Wavelength (nm)')\n",
    "plt.grid(linestyle='dotted')\n",
    "ax1.legend()"
   ]
  },
  {
   "cell_type": "markdown",
   "metadata": {},
   "source": [
    "We need to provide this data to pvtrace in a pandas dataframe with a very specific format as shown below,"
   ]
  },
  {
   "cell_type": "code",
   "execution_count": null,
   "metadata": {},
   "outputs": [],
   "source": [
    "data = {\n",
    "    \"wavelength\": wavelength,\n",
    "    \"refractive index\": np.ones(wavelength.shape) * 1.5,\n",
    "    \"absorption coefficient dye 1\": abs_coef,\n",
    "    \"emission spectrum dye 1\": ems_spec,\n",
    "    \"quantum yield dye 1\": np.ones(wavelength.shape) * 1.0\n",
    "}    \n",
    "df = pd.DataFrame(data)\n",
    "df.tail()"
   ]
  },
  {
   "cell_type": "markdown",
   "metadata": {},
   "source": [
    "## LSC scene\n",
    "\n",
    "Let's make our scene. If you have followed the tutorials 001 to 004 all of the following should make sense,"
   ]
  },
  {
   "cell_type": "code",
   "execution_count": null,
   "metadata": {},
   "outputs": [],
   "source": [
    "# Make a world coordinate system\n",
    "world_node = Node(name='world')\n",
    "world_node.geometry = Sphere(radius=10.0, material=Dielectric.make_constant((300, 1000.0), 1.0))\n",
    "\n",
    "# Add LSC\n",
    "size = (1.0, 1.0, 0.02)\n",
    "lsc = Node(name=\"LSC\", parent=world_node)\n",
    "lsc.geometry = Box(size, material=Host.from_dataframe(df))\n",
    "\n",
    "# Light source\n",
    "light = Light(divergence_delegate=functools.partial(Light.cone_divergence, np.radians(20)))\n",
    "light_node = Node(name='light', parent=world_node, location=(0.0, 0.0, 1.0))\n",
    "light_node.rotate(np.radians(180), (1, 0, 0))\n",
    "light_node.light = light\n",
    "scene = Scene(root=world_node)"
   ]
  },
  {
   "cell_type": "code",
   "execution_count": null,
   "metadata": {},
   "outputs": [],
   "source": [
    "renderer = MeshcatRenderer(max_histories=None)\n",
    "renderer.render(scene)\n",
    "renderer.vis.jupyter_cell()"
   ]
  },
  {
   "cell_type": "markdown",
   "metadata": {},
   "source": [
    "Let's trace a small number of rays to see if we made our scene correctly."
   ]
  },
  {
   "cell_type": "code",
   "execution_count": null,
   "metadata": {},
   "outputs": [],
   "source": [
    "tracer = PhotonTracer(scene)\n",
    "for light_node in scene.light_nodes:\n",
    "    for ray in light.emit(20):\n",
    "        ray = ray.representation(light_node, world_node)\n",
    "        history = tracer.follow(ray)\n",
    "        path = [x for x in history]\n",
    "        renderer.add_ray_path(path)"
   ]
  },
  {
   "cell_type": "markdown",
   "metadata": {},
   "source": [
    "## Tracing\n",
    "\n",
    "The scene looks good, we have a divergent light source with wavelength 555nm hitting the top surface and luminescent rays are exiting the LSC surface.\n",
    "\n",
    "Let's trace a larger number of rays to make a dataset we can analyse."
   ]
  },
  {
   "cell_type": "code",
   "execution_count": null,
   "metadata": {},
   "outputs": [],
   "source": [
    "from ipywidgets import IntProgress\n",
    "from IPython.display import display\n",
    "np.random.seed(4)\n",
    "tracer = PhotonTracer(scene)\n",
    "entrance_rays = []\n",
    "exit_rays = []\n",
    "max_rays = 200\n",
    "f = IntProgress(min=0, max=max_rays, description='Tracing:',\n",
    ")\n",
    "display(f)\n",
    "for light_node in scene.light_nodes:\n",
    "    for idx, ray in enumerate(light.emit(max_rays)):\n",
    "        ray = ray.representation(light_node, world_node)\n",
    "        try:\n",
    "            path = tracer.follow(ray)\n",
    "        except TraceError:\n",
    "            continue\n",
    "        else:\n",
    "            entrance_rays.append(path[0])\n",
    "            exit_rays.append(path[-2])  # -1 is the world node, don't want that\n",
    "        finally:\n",
    "            f.value += 1\n",
    "print(\"Done!\")"
   ]
  },
  {
   "cell_type": "markdown",
   "metadata": {},
   "source": [
    "\n",
    "Here are some helper functions for labelling and processing the row and columns."
   ]
  },
  {
   "cell_type": "code",
   "execution_count": null,
   "metadata": {},
   "outputs": [],
   "source": [
    "def expand_coords(df, column):\n",
    "    \"\"\" Returns a dataframe with coordinate column expanded into components.\n",
    "    \n",
    "        Parameters\n",
    "        ----------\n",
    "        df : pandas.DataFrame\n",
    "            The dataframe\n",
    "        column : str\n",
    "            The column label\n",
    "        \n",
    "        Returns\n",
    "        -------\n",
    "        df : pandas.DataFrame\n",
    "            The dataframe with the column expanded.\n",
    "        \n",
    "        Example\n",
    "        -------\n",
    "        Given the dataframe::\n",
    "        \n",
    "            df = pd.DataFrame({'position': [(1,2,3)]})\n",
    "        \n",
    "        the function will return a new dataframe::\n",
    "        \n",
    "            edf = expand_coords(df, 'position')\n",
    "            edf == pd.DataFrame({'position_x': [1], 'position_y': [2], 'position_z': [3]})\n",
    "        \n",
    "    \"\"\"\n",
    "    coords = np.stack(df[column].values)\n",
    "    df['{}_x'.format(column)] = coords[:, 0]\n",
    "    df['{}_y'.format(column)] = coords[:, 1]\n",
    "    df['{}_z'.format(column)] = coords[:, 2]\n",
    "    df.drop(columns=column, inplace=True)\n",
    "    return df\n",
    "\n",
    "def label_facets(df, length, width, height):\n",
    "    \"\"\" Label rows with facet names for a box LSC.\n",
    "    \n",
    "        Notes\n",
    "        -----\n",
    "        This function only works if the coordinates in the dataframe\n",
    "        are in the local frame of the box. If the coordinates are in the\n",
    "        world frame then this will still work provided the box is axis\n",
    "        aligned with the world node and centred at the origin.\n",
    "    \"\"\"\n",
    "    xmin, xmax = -0.5*length, 0.5*length\n",
    "    ymin, ymax = -0.5*width, 0.5*width\n",
    "    zmin, zmax = -0.5*height, 0.5*height\n",
    "    df.loc[(np.isclose(df['position_x'], xmin)), 'facet'] = '-x'\n",
    "    df.loc[(np.isclose(df['position_x'], xmax)), 'facet'] = '+x'\n",
    "    df.loc[(np.isclose(df['position_y'], ymin)), 'facet'] = '-y'\n",
    "    df.loc[(np.isclose(df['position_y'], ymax)), 'facet'] = '+y'\n",
    "    df.loc[(np.isclose(df['position_z'], zmin)), 'facet'] = '-z'\n",
    "    df.loc[(np.isclose(df['position_z'], zmax)), 'facet'] = '+z'\n",
    "    return df\n",
    "\n"
   ]
  },
  {
   "cell_type": "markdown",
   "metadata": {},
   "source": [
    "Let's investigate the entrance and exit rays."
   ]
  },
  {
   "cell_type": "code",
   "execution_count": null,
   "metadata": {},
   "outputs": [],
   "source": [
    "df = pd.DataFrame()\n",
    "\n",
    "# Rays entering the scene\n",
    "for ray in entrance_rays:\n",
    "    rep = asdict(ray)\n",
    "    rep['kind'] = 'entrance'\n",
    "    df = df.append(rep, ignore_index=True)\n",
    "    \n",
    "# Rays exiting the scene\n",
    "for ray in exit_rays:\n",
    "    rep = asdict(ray)\n",
    "    rep['kind'] = 'exit'\n",
    "    df = df.append(rep, ignore_index=True)\n",
    "    \n",
    "# Expand position and direction columns into component columns\n",
    "df = expand_coords(df, 'direction')\n",
    "df = expand_coords(df, 'position')\n",
    "\n",
    "# Label facets\n",
    "df = label_facets(df, *size)\n",
    "df.head()"
   ]
  },
  {
   "cell_type": "markdown",
   "metadata": {},
   "source": [
    "## Spatial distribution of photons\n",
    "\n",
    "Let's view all rays locations in the xy-plane"
   ]
  },
  {
   "cell_type": "code",
   "execution_count": null,
   "metadata": {},
   "outputs": [],
   "source": [
    "def xy_plot(df):\n",
    "    \"\"\" Plots ray positions in the xy-plane.\n",
    "        \n",
    "        References\n",
    "        ----------\n",
    "        [1] https://stackoverflow.com/questions/44959955/matplotlib-color-under-curve-based-on-spectral-color\n",
    "    \"\"\"\n",
    "    norm = plt.Normalize(*wavelength_range)\n",
    "    wl = np.arange(wavelength_range[0], wavelength_range[1]+1,2)\n",
    "    colorlist = list(zip(norm(wl), [np.array(wavelength_to_rgb(w))/255 for w in wl]))\n",
    "    spectralmap = matplotlib.colors.LinearSegmentedColormap.from_list(\"spectrum\", colorlist)\n",
    "    colors = [spectralmap(norm(value)) for value in df['wavelength']]\n",
    "    df.plot(x='position_x', y='position_y', kind='scatter', alpha=1.0, color=colors)\n",
    "    plt.axis('equal')\n",
    "xy_plot(df)"
   ]
  },
  {
   "cell_type": "markdown",
   "metadata": {},
   "source": [
    "We can see the green rays entering the top surface. Rays near the centre are redshifted from green to red because they have only travelled a short distance and have not encounted many reabsorption event. The image also shows luminescent photons clustering on the edges. These are deep red colour because they have been red shifted the most due to a large path length in the material."
   ]
  },
  {
   "cell_type": "markdown",
   "metadata": {},
   "source": [
    "## Optical efficiency\n",
    "\n",
    "We need more rays to calculate the optical efficiency per surface, but you could do it like this."
   ]
  },
  {
   "cell_type": "code",
   "execution_count": null,
   "metadata": {},
   "outputs": [],
   "source": [
    "counts = dict()\n",
    "counts['-x'] = df.loc[(df['kind']=='exit')&(df['facet']=='-x')].shape[0]\n",
    "counts['+x'] = df.loc[(df['kind']=='exit')&(df['facet']=='+x')].shape[0]\n",
    "counts['-y'] = df.loc[(df['kind']=='exit')&(df['facet']=='-y')].shape[0]\n",
    "counts['+y'] = df.loc[(df['kind']=='exit')&(df['facet']=='+y')].shape[0]\n",
    "counts['-z'] = df.loc[(df['kind']=='exit')&(df['facet']=='-z')].shape[0]\n",
    "counts['+z'] = df.loc[(df['kind']=='exit')&(df['facet']=='+z')].shape[0]\n",
    "counts"
   ]
  },
  {
   "cell_type": "code",
   "execution_count": null,
   "metadata": {},
   "outputs": [],
   "source": [
    "etaopt = dict()\n",
    "thrown = df[df['kind']=='entrance'].size\n",
    "for facet in counts:\n",
    "    etaopt[facet] = counts[facet]/thrown\n",
    "etaopt"
   ]
  },
  {
   "cell_type": "markdown",
   "metadata": {},
   "source": [
    "Aggregate the edge surfaces as these facets are where you might want to place your solar cells."
   ]
  },
  {
   "cell_type": "code",
   "execution_count": null,
   "metadata": {},
   "outputs": [],
   "source": [
    "etaopt['-x'] + etaopt['+x'] + etaopt['-y'] + etaopt['+y']"
   ]
  }
 ],
 "metadata": {
  "kernelspec": {
   "display_name": "Python 3",
   "language": "python",
   "name": "python3"
  },
  "language_info": {
   "codemirror_mode": {
    "name": "ipython",
    "version": 3
   },
   "file_extension": ".py",
   "mimetype": "text/x-python",
   "name": "python",
   "nbconvert_exporter": "python",
   "pygments_lexer": "ipython3",
   "version": "3.7.2"
  }
 },
 "nbformat": 4,
 "nbformat_minor": 2
}
